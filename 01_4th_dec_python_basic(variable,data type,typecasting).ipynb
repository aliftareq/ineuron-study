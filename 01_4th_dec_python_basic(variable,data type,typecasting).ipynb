{
 "cells": [
  {
   "cell_type": "code",
   "execution_count": 2,
   "id": "6b0602b6",
   "metadata": {},
   "outputs": [
    {
     "name": "stdout",
     "output_type": "stream",
     "text": [
      "The Zen of Python, by Tim Peters\n",
      "\n",
      "Beautiful is better than ugly.\n",
      "Explicit is better than implicit.\n",
      "Simple is better than complex.\n",
      "Complex is better than complicated.\n",
      "Flat is better than nested.\n",
      "Sparse is better than dense.\n",
      "Readability counts.\n",
      "Special cases aren't special enough to break the rules.\n",
      "Although practicality beats purity.\n",
      "Errors should never pass silently.\n",
      "Unless explicitly silenced.\n",
      "In the face of ambiguity, refuse the temptation to guess.\n",
      "There should be one-- and preferably only one --obvious way to do it.\n",
      "Although that way may not be obvious at first unless you're Dutch.\n",
      "Now is better than never.\n",
      "Although never is often better than *right* now.\n",
      "If the implementation is hard to explain, it's a bad idea.\n",
      "If the implementation is easy to explain, it may be a good idea.\n",
      "Namespaces are one honking great idea -- let's do more of those!\n"
     ]
    }
   ],
   "source": [
    "import this"
   ]
  },
  {
   "cell_type": "code",
   "execution_count": 8,
   "id": "eb1b0c76",
   "metadata": {},
   "outputs": [
    {
     "name": "stdout",
     "output_type": "stream",
     "text": [
      "this is my first programme\n"
     ]
    }
   ],
   "source": [
    "print(\"this is my first programme\")"
   ]
  },
  {
   "cell_type": "code",
   "execution_count": 9,
   "id": "9d3da956",
   "metadata": {},
   "outputs": [
    {
     "data": {
      "text/plain": [
       "3"
      ]
     },
     "execution_count": 9,
     "metadata": {},
     "output_type": "execute_result"
    }
   ],
   "source": [
    "1+2"
   ]
  },
  {
   "cell_type": "code",
   "execution_count": 13,
   "id": "c9f9b40b",
   "metadata": {},
   "outputs": [
    {
     "data": {
      "text/plain": [
       "1.2857142857142858"
      ]
     },
     "execution_count": 13,
     "metadata": {},
     "output_type": "execute_result"
    }
   ],
   "source": [
    "float(9/7)"
   ]
  },
  {
   "cell_type": "code",
   "execution_count": 15,
   "id": "613e3bb5",
   "metadata": {},
   "outputs": [
    {
     "data": {
      "text/plain": [
       "7"
      ]
     },
     "execution_count": 15,
     "metadata": {},
     "output_type": "execute_result"
    }
   ],
   "source": [
    "7"
   ]
  },
  {
   "cell_type": "code",
   "execution_count": 5,
   "id": "4edece5e",
   "metadata": {},
   "outputs": [
    {
     "data": {
      "text/plain": [
       "'alif'"
      ]
     },
     "execution_count": 5,
     "metadata": {},
     "output_type": "execute_result"
    }
   ],
   "source": [
    "\"alif\""
   ]
  },
  {
   "cell_type": "code",
   "execution_count": 7,
   "id": "8fc4286b",
   "metadata": {},
   "outputs": [
    {
     "name": "stdout",
     "output_type": "stream",
     "text": [
      "modhu\n"
     ]
    }
   ],
   "source": [
    "name = \"modhu\"\n",
    "print(name)"
   ]
  },
  {
   "cell_type": "code",
   "execution_count": 9,
   "id": "27e020e6",
   "metadata": {},
   "outputs": [
    {
     "data": {
      "text/plain": [
       "'sudh'"
      ]
     },
     "execution_count": 9,
     "metadata": {},
     "output_type": "execute_result"
    }
   ],
   "source": [
    "e = 'sudh'\n",
    "e"
   ]
  },
  {
   "cell_type": "code",
   "execution_count": 16,
   "id": "ba59ee23",
   "metadata": {},
   "outputs": [
    {
     "data": {
      "text/plain": [
       "bool"
      ]
     },
     "execution_count": 16,
     "metadata": {},
     "output_type": "execute_result"
    }
   ],
   "source": [
    "g =True\n",
    "type(g)"
   ]
  },
  {
   "cell_type": "code",
   "execution_count": 18,
   "id": "4df1b2fd",
   "metadata": {},
   "outputs": [],
   "source": [
    "*a = 45"
   ]
  },
  {
   "cell_type": "code",
   "execution_count": 29,
   "id": "9407f288",
   "metadata": {},
   "outputs": [],
   "source": [
    "a,b,c,d,e = 45,'ban',4+6j,7.8,True"
   ]
  },
  {
   "cell_type": "code",
   "execution_count": 4,
   "id": "7af6fa4c",
   "metadata": {},
   "outputs": [],
   "source": [
    "c = 4+6j"
   ]
  },
  {
   "cell_type": "code",
   "execution_count": 5,
   "id": "609c3b70",
   "metadata": {},
   "outputs": [
    {
     "data": {
      "text/plain": [
       "complex"
      ]
     },
     "execution_count": 5,
     "metadata": {},
     "output_type": "execute_result"
    }
   ],
   "source": [
    "type(c)"
   ]
  },
  {
   "cell_type": "code",
   "execution_count": 6,
   "id": "28c94726",
   "metadata": {},
   "outputs": [
    {
     "data": {
      "text/plain": [
       "4.0"
      ]
     },
     "execution_count": 6,
     "metadata": {},
     "output_type": "execute_result"
    }
   ],
   "source": [
    "c.real\n",
    "# c.conjugate()"
   ]
  },
  {
   "cell_type": "code",
   "execution_count": 34,
   "id": "5080a99d",
   "metadata": {},
   "outputs": [
    {
     "data": {
      "text/plain": [
       "6.0"
      ]
     },
     "execution_count": 34,
     "metadata": {},
     "output_type": "execute_result"
    }
   ],
   "source": [
    "c.imag"
   ]
  },
  {
   "cell_type": "code",
   "execution_count": 35,
   "id": "4723cc48",
   "metadata": {},
   "outputs": [],
   "source": [
    "m = \"sharid\""
   ]
  },
  {
   "cell_type": "code",
   "execution_count": 37,
   "id": "33701027",
   "metadata": {},
   "outputs": [
    {
     "data": {
      "text/plain": [
       "'Sharid'"
      ]
     },
     "execution_count": 37,
     "metadata": {},
     "output_type": "execute_result"
    }
   ],
   "source": [
    "m.capitalize()"
   ]
  },
  {
   "cell_type": "code",
   "execution_count": 38,
   "id": "063103c2",
   "metadata": {},
   "outputs": [],
   "source": [
    "a = \"alif\""
   ]
  },
  {
   "cell_type": "code",
   "execution_count": 40,
   "id": "9514bcb4",
   "metadata": {},
   "outputs": [
    {
     "data": {
      "text/plain": [
       "'alif37'"
      ]
     },
     "execution_count": 40,
     "metadata": {},
     "output_type": "execute_result"
    }
   ],
   "source": [
    "a + str(3) +\"7\""
   ]
  },
  {
   "cell_type": "code",
   "execution_count": 41,
   "id": "58ba8d25",
   "metadata": {},
   "outputs": [
    {
     "data": {
      "text/plain": [
       "'alifalifalifalif'"
      ]
     },
     "execution_count": 41,
     "metadata": {},
     "output_type": "execute_result"
    }
   ],
   "source": [
    "a*4"
   ]
  },
  {
   "cell_type": "code",
   "execution_count": 42,
   "id": "6f567ed8",
   "metadata": {},
   "outputs": [
    {
     "data": {
      "text/plain": [
       "2"
      ]
     },
     "execution_count": 42,
     "metadata": {},
     "output_type": "execute_result"
    }
   ],
   "source": [
    "True + True"
   ]
  },
  {
   "cell_type": "code",
   "execution_count": 43,
   "id": "3137f04f",
   "metadata": {},
   "outputs": [
    {
     "data": {
      "text/plain": [
       "1"
      ]
     },
     "execution_count": 43,
     "metadata": {},
     "output_type": "execute_result"
    }
   ],
   "source": [
    "True + False"
   ]
  },
  {
   "cell_type": "code",
   "execution_count": 44,
   "id": "45b5e3eb",
   "metadata": {},
   "outputs": [
    {
     "data": {
      "text/plain": [
       "-1"
      ]
     },
     "execution_count": 44,
     "metadata": {},
     "output_type": "execute_result"
    }
   ],
   "source": [
    "False - True"
   ]
  },
  {
   "cell_type": "code",
   "execution_count": 51,
   "id": "c68638bb",
   "metadata": {},
   "outputs": [
    {
     "name": "stdout",
     "output_type": "stream",
     "text": [
      "enter:2\n"
     ]
    }
   ],
   "source": [
    "l = input(\"enter:\")"
   ]
  },
  {
   "cell_type": "code",
   "execution_count": 52,
   "id": "4e2f56c0",
   "metadata": {},
   "outputs": [
    {
     "data": {
      "text/plain": [
       "4"
      ]
     },
     "execution_count": 52,
     "metadata": {},
     "output_type": "execute_result"
    }
   ],
   "source": [
    "int(l)+2"
   ]
  },
  {
   "cell_type": "code",
   "execution_count": 53,
   "id": "0ea179b0",
   "metadata": {},
   "outputs": [
    {
     "data": {
      "text/plain": [
       "11"
      ]
     },
     "execution_count": 53,
     "metadata": {},
     "output_type": "execute_result"
    }
   ],
   "source": [
    "a = \"jdkeuendhdl\"\n",
    "len(a)"
   ]
  },
  {
   "cell_type": "code",
   "execution_count": null,
   "id": "741531e2",
   "metadata": {},
   "outputs": [],
   "source": []
  }
 ],
 "metadata": {
  "kernelspec": {
   "display_name": "Python 3 (ipykernel)",
   "language": "python",
   "name": "python3"
  },
  "language_info": {
   "codemirror_mode": {
    "name": "ipython",
    "version": 3
   },
   "file_extension": ".py",
   "mimetype": "text/x-python",
   "name": "python",
   "nbconvert_exporter": "python",
   "pygments_lexer": "ipython3",
   "version": "3.9.7"
  }
 },
 "nbformat": 4,
 "nbformat_minor": 5
}
